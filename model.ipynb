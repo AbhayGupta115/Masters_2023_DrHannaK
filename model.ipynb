{
 "cells": [
  {
   "cell_type": "code",
   "execution_count": 28,
   "metadata": {},
   "outputs": [],
   "source": [
    "import numpy as np\n",
    "import math\n",
    "import matplotlib.pyplot as plt"
   ]
  },
  {
   "cell_type": "code",
   "execution_count": 76,
   "metadata": {},
   "outputs": [],
   "source": [
    "#Parameters\n",
    "p = 0.5 #Initial frequency of defender allele\n",
    "q = (1 - p) #Frequency of non defenders\n",
    "C = 10 #Number of eggs laid by non defender females\n",
    "c = 5 #Number of eggs laid by defender females\n",
    "a = 1.5 #Advantage for non defender mails in mating rate\n",
    "u = 0.3 #Probability female stays unmated\n",
    "r = 0.5 #Sex ration (Prob of male larvae in a mating)\n",
    "\n",
    "def s(d): #Probability of the group surviving based on the proportion of defenders in the larvae\n",
    "    return (np.exp(-d) - np.exp(0))/(np.exp(-1) - np.exp(0)) #For now we are using linear distribution"
   ]
  },
  {
   "cell_type": "code",
   "execution_count": 77,
   "metadata": {},
   "outputs": [
    {
     "data": {
      "text/plain": [
       "[<matplotlib.lines.Line2D at 0x20b06201a90>]"
      ]
     },
     "execution_count": 77,
     "metadata": {},
     "output_type": "execute_result"
    },
    {
     "data": {
      "image/png": "[encoded data removed]",
      "text/plain": [
       "<Figure size 640x480 with 1 Axes>"
      ]
     },
     "metadata": {},
     "output_type": "display_data"
    }
   ],
   "source": [
    "d = np.linspace(0, 1, 101)\n",
    "plt.plot(d, s(d))"
   ]
  },
  {
   "cell_type": "code",
   "execution_count": 33,
   "metadata": {},
   "outputs": [],
   "source": [
    "#Aux Functions\n",
    "def comb(n, r):\n",
    "    return math.factorial(n) / (math.factorial(n-r) * math.factorial(r))"
   ]
  },
  {
   "cell_type": "code",
   "execution_count": 27,
   "metadata": {},
   "outputs": [],
   "source": [
    "#Initial frequencies of all genotypes\n",
    "#Males\n",
    "x0 = q\n",
    "x1 = p\n",
    "\n",
    "y0 = a*x0 / (a*x0 + x1)\n",
    "y1 = x1 / (a*x0 + x1)\n",
    "\n",
    "#Females (Assuming equilibrium values)\n",
    "x00 = q*q\n",
    "x01 = 2*p*q\n",
    "x11 = p*p"
   ]
  },
  {
   "cell_type": "code",
   "execution_count": null,
   "metadata": {},
   "outputs": [],
   "source": [
    "#Non matings\n",
    "def f00_x0(u, x00, C):\n",
    "    return u * x00 * C * s(0)\n",
    "\n",
    "def f01_x0x1(u, x01, C):\n",
    "    S = 0\n",
    "    for k in range(C+1):\n",
    "        S += comb(C, k) * ((0.5)**(k)*(0.5)**(C-k)) * s(k/C)\n",
    "\n",
    "    return u * x01 * C * S\n",
    "\n",
    "def f11_x1(u, x11, c):\n",
    "    return u * x11 * c * s(1)\n",
    "\n",
    "#Matings\n",
    "def f00m0_x00x0(u, x00, y0, C):\n",
    "    return (1-u) * x00 * y0 * C * s(0)\n",
    "\n",
    "def f11m1_x11x1(u, x11, y1, c):\n",
    "    return (1-u) * x11 * y1 * c * s(1)\n",
    "\n",
    "def f00m1_x01x0(u, x00, y1, C):\n",
    "    return (1-u) * x00 * y1 * C * s(0)\n",
    "\n",
    "def f11m0_x01x1(u, x11, y0, c, r):\n",
    "    S = 0\n",
    "    for k in range(c+1):\n",
    "        S += comb(c, k) * ((r)**(k)*(1-r)**(c-k)) * s(k/c)\n",
    "\n",
    "    return (1-u) * x11 * y0 * c * S\n",
    "\n",
    "def f01m0_x01x00x1x0(u, x01, y0, C, r):\n",
    "    S = 0\n",
    "    for k in range(C+1):\n",
    "        for m in range(k+1):\n",
    "            for f in range(C-k+1):\n",
    "                S += comb(C, k) * ((r)**(k)*(1-r)**(C-k)) * comb(k, m) * (2 ** -k) * comb(C-k, f) * (2 ** k-C) * s(m/C)\n",
    "\n",
    "    return (1-u) * x01 * y0 * C * S\n",
    "\n",
    "def f01m1_x01x11x1x0(u, x01, y1, C, r):\n",
    "    S = 0\n",
    "    for k in range(C+1):\n",
    "        for m in range(k+1):\n",
    "            for f in range(C-k+1):\n",
    "                S += comb(C, k) * ((r)**(k)*(1-r)**(C-k)) * comb(k, m) * (2 ** -k) * comb(C-k, f) * (2 ** k-C) * s((f+m)/C)\n",
    "\n",
    "    return (1-u) * x01 * y1 * C * S"
   ]
  },
  {
   "cell_type": "code",
   "execution_count": 78,
   "metadata": {},
   "outputs": [
    {
     "name": "stdout",
     "output_type": "stream",
     "text": [
      "0.6212591895505835\n"
     ]
    }
   ],
   "source": [
    "t = 100\n",
    "S = 0\n",
    "r = 0.5\n",
    "for k in range(t+1):\n",
    "    S += comb(t, k) * ((r)**(k)*(1-r)**(t-k)) * s(k/t)\n",
    "\n",
    "print(S)\n"
   ]
  },
  {
   "cell_type": "code",
   "execution_count": null,
   "metadata": {},
   "outputs": [],
   "source": []
  }
 ],
 "metadata": {
  "kernelspec": {
   "display_name": "base",
   "language": "python",
   "name": "python3"
  },
  "language_info": {
   "codemirror_mode": {
    "name": "ipython",
    "version": 3
   },
   "file_extension": ".py",
   "mimetype": "text/x-python",
   "name": "python",
   "nbconvert_exporter": "python",
   "pygments_lexer": "ipython3",
   "version": "3.9.16"
  },
  "orig_nbformat": 4
 },
 "nbformat": 4,
 "nbformat_minor": 2
}
